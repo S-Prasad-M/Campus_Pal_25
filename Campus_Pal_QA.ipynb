{
 "cells": [
  {
   "cell_type": "code",
   "execution_count": 25,
   "metadata": {},
   "outputs": [],
   "source": [
    "import json\n",
    "from transformers import T5Tokenizer, T5ForConditionalGeneration, Trainer, TrainingArguments\n",
    "from datasets import Dataset\n",
    "import torch"
   ]
  },
  {
   "cell_type": "code",
   "execution_count": 26,
   "metadata": {},
   "outputs": [],
   "source": [
    "with open(\"Campus_Pal.json\", \"r\", encoding=\"utf-8\") as file:\n",
    "    qa_data = json.load(file)"
   ]
  },
  {
   "cell_type": "code",
   "execution_count": 27,
   "metadata": {},
   "outputs": [],
   "source": [
    "formatted_data = [{\"input_text\": f\"question: {item['question']}\", \"target_text\": item[\"answer\"]} for item in qa_data]"
   ]
  },
  {
   "cell_type": "code",
   "execution_count": 28,
   "metadata": {},
   "outputs": [],
   "source": [
    "dataset = Dataset.from_list(formatted_data)"
   ]
  },
  {
   "cell_type": "code",
   "execution_count": 29,
   "metadata": {},
   "outputs": [
    {
     "name": "stdout",
     "output_type": "stream",
     "text": [
      "Using device: cuda\n"
     ]
    },
    {
     "data": {
      "text/plain": [
       "T5ForConditionalGeneration(\n",
       "  (shared): Embedding(32128, 512)\n",
       "  (encoder): T5Stack(\n",
       "    (embed_tokens): Embedding(32128, 512)\n",
       "    (block): ModuleList(\n",
       "      (0): T5Block(\n",
       "        (layer): ModuleList(\n",
       "          (0): T5LayerSelfAttention(\n",
       "            (SelfAttention): T5Attention(\n",
       "              (q): Linear(in_features=512, out_features=512, bias=False)\n",
       "              (k): Linear(in_features=512, out_features=512, bias=False)\n",
       "              (v): Linear(in_features=512, out_features=512, bias=False)\n",
       "              (o): Linear(in_features=512, out_features=512, bias=False)\n",
       "              (relative_attention_bias): Embedding(32, 8)\n",
       "            )\n",
       "            (layer_norm): T5LayerNorm()\n",
       "            (dropout): Dropout(p=0.1, inplace=False)\n",
       "          )\n",
       "          (1): T5LayerFF(\n",
       "            (DenseReluDense): T5DenseActDense(\n",
       "              (wi): Linear(in_features=512, out_features=2048, bias=False)\n",
       "              (wo): Linear(in_features=2048, out_features=512, bias=False)\n",
       "              (dropout): Dropout(p=0.1, inplace=False)\n",
       "              (act): ReLU()\n",
       "            )\n",
       "            (layer_norm): T5LayerNorm()\n",
       "            (dropout): Dropout(p=0.1, inplace=False)\n",
       "          )\n",
       "        )\n",
       "      )\n",
       "      (1-5): 5 x T5Block(\n",
       "        (layer): ModuleList(\n",
       "          (0): T5LayerSelfAttention(\n",
       "            (SelfAttention): T5Attention(\n",
       "              (q): Linear(in_features=512, out_features=512, bias=False)\n",
       "              (k): Linear(in_features=512, out_features=512, bias=False)\n",
       "              (v): Linear(in_features=512, out_features=512, bias=False)\n",
       "              (o): Linear(in_features=512, out_features=512, bias=False)\n",
       "            )\n",
       "            (layer_norm): T5LayerNorm()\n",
       "            (dropout): Dropout(p=0.1, inplace=False)\n",
       "          )\n",
       "          (1): T5LayerFF(\n",
       "            (DenseReluDense): T5DenseActDense(\n",
       "              (wi): Linear(in_features=512, out_features=2048, bias=False)\n",
       "              (wo): Linear(in_features=2048, out_features=512, bias=False)\n",
       "              (dropout): Dropout(p=0.1, inplace=False)\n",
       "              (act): ReLU()\n",
       "            )\n",
       "            (layer_norm): T5LayerNorm()\n",
       "            (dropout): Dropout(p=0.1, inplace=False)\n",
       "          )\n",
       "        )\n",
       "      )\n",
       "    )\n",
       "    (final_layer_norm): T5LayerNorm()\n",
       "    (dropout): Dropout(p=0.1, inplace=False)\n",
       "  )\n",
       "  (decoder): T5Stack(\n",
       "    (embed_tokens): Embedding(32128, 512)\n",
       "    (block): ModuleList(\n",
       "      (0): T5Block(\n",
       "        (layer): ModuleList(\n",
       "          (0): T5LayerSelfAttention(\n",
       "            (SelfAttention): T5Attention(\n",
       "              (q): Linear(in_features=512, out_features=512, bias=False)\n",
       "              (k): Linear(in_features=512, out_features=512, bias=False)\n",
       "              (v): Linear(in_features=512, out_features=512, bias=False)\n",
       "              (o): Linear(in_features=512, out_features=512, bias=False)\n",
       "              (relative_attention_bias): Embedding(32, 8)\n",
       "            )\n",
       "            (layer_norm): T5LayerNorm()\n",
       "            (dropout): Dropout(p=0.1, inplace=False)\n",
       "          )\n",
       "          (1): T5LayerCrossAttention(\n",
       "            (EncDecAttention): T5Attention(\n",
       "              (q): Linear(in_features=512, out_features=512, bias=False)\n",
       "              (k): Linear(in_features=512, out_features=512, bias=False)\n",
       "              (v): Linear(in_features=512, out_features=512, bias=False)\n",
       "              (o): Linear(in_features=512, out_features=512, bias=False)\n",
       "            )\n",
       "            (layer_norm): T5LayerNorm()\n",
       "            (dropout): Dropout(p=0.1, inplace=False)\n",
       "          )\n",
       "          (2): T5LayerFF(\n",
       "            (DenseReluDense): T5DenseActDense(\n",
       "              (wi): Linear(in_features=512, out_features=2048, bias=False)\n",
       "              (wo): Linear(in_features=2048, out_features=512, bias=False)\n",
       "              (dropout): Dropout(p=0.1, inplace=False)\n",
       "              (act): ReLU()\n",
       "            )\n",
       "            (layer_norm): T5LayerNorm()\n",
       "            (dropout): Dropout(p=0.1, inplace=False)\n",
       "          )\n",
       "        )\n",
       "      )\n",
       "      (1-5): 5 x T5Block(\n",
       "        (layer): ModuleList(\n",
       "          (0): T5LayerSelfAttention(\n",
       "            (SelfAttention): T5Attention(\n",
       "              (q): Linear(in_features=512, out_features=512, bias=False)\n",
       "              (k): Linear(in_features=512, out_features=512, bias=False)\n",
       "              (v): Linear(in_features=512, out_features=512, bias=False)\n",
       "              (o): Linear(in_features=512, out_features=512, bias=False)\n",
       "            )\n",
       "            (layer_norm): T5LayerNorm()\n",
       "            (dropout): Dropout(p=0.1, inplace=False)\n",
       "          )\n",
       "          (1): T5LayerCrossAttention(\n",
       "            (EncDecAttention): T5Attention(\n",
       "              (q): Linear(in_features=512, out_features=512, bias=False)\n",
       "              (k): Linear(in_features=512, out_features=512, bias=False)\n",
       "              (v): Linear(in_features=512, out_features=512, bias=False)\n",
       "              (o): Linear(in_features=512, out_features=512, bias=False)\n",
       "            )\n",
       "            (layer_norm): T5LayerNorm()\n",
       "            (dropout): Dropout(p=0.1, inplace=False)\n",
       "          )\n",
       "          (2): T5LayerFF(\n",
       "            (DenseReluDense): T5DenseActDense(\n",
       "              (wi): Linear(in_features=512, out_features=2048, bias=False)\n",
       "              (wo): Linear(in_features=2048, out_features=512, bias=False)\n",
       "              (dropout): Dropout(p=0.1, inplace=False)\n",
       "              (act): ReLU()\n",
       "            )\n",
       "            (layer_norm): T5LayerNorm()\n",
       "            (dropout): Dropout(p=0.1, inplace=False)\n",
       "          )\n",
       "        )\n",
       "      )\n",
       "    )\n",
       "    (final_layer_norm): T5LayerNorm()\n",
       "    (dropout): Dropout(p=0.1, inplace=False)\n",
       "  )\n",
       "  (lm_head): Linear(in_features=512, out_features=32128, bias=False)\n",
       ")"
      ]
     },
     "execution_count": 29,
     "metadata": {},
     "output_type": "execute_result"
    }
   ],
   "source": [
    "tokenizer = T5Tokenizer.from_pretrained(\"t5-small\")\n",
    "model = T5ForConditionalGeneration.from_pretrained(\"t5-small\")\n",
    "# Check if GPU is available\n",
    "device = torch.device(\"cuda\" if torch.cuda.is_available() else \"cpu\")\n",
    "print(f\"Using device: {device}\")\n",
    "\n",
    "# Move model to device\n",
    "model.to(device)"
   ]
  },
  {
   "cell_type": "code",
   "execution_count": 30,
   "metadata": {},
   "outputs": [],
   "source": [
    "def preprocess_data(examples):\n",
    "    inputs = tokenizer(examples[\"input_text\"], padding=\"max_length\", truncation=True, max_length=256)\n",
    "    targets = tokenizer(examples[\"target_text\"], padding=\"max_length\", truncation=True, max_length=256)\n",
    "    inputs[\"labels\"] = targets[\"input_ids\"]\n",
    "    return inputs"
   ]
  },
  {
   "cell_type": "code",
   "execution_count": 31,
   "metadata": {},
   "outputs": [
    {
     "data": {
      "application/vnd.jupyter.widget-view+json": {
       "model_id": "d4d6c6b653c14b579caff58ebfa4fa57",
       "version_major": 2,
       "version_minor": 0
      },
      "text/plain": [
       "Map:   0%|          | 0/9357 [00:00<?, ? examples/s]"
      ]
     },
     "metadata": {},
     "output_type": "display_data"
    }
   ],
   "source": [
    "tokenized_dataset = dataset.map(preprocess_data, batched=True)"
   ]
  },
  {
   "cell_type": "code",
   "execution_count": 32,
   "metadata": {},
   "outputs": [],
   "source": [
    "training_args = TrainingArguments(\n",
    "    output_dir=\"./t5_finetuned\",\n",
    "    per_device_train_batch_size=8,\n",
    "    num_train_epochs=20,\n",
    "    logging_dir=\"./logs\",\n",
    "    save_strategy=\"epoch\",\n",
    ")\n"
   ]
  },
  {
   "cell_type": "code",
   "execution_count": 33,
   "metadata": {},
   "outputs": [
    {
     "data": {
      "text/html": [
       "\n",
       "    <div>\n",
       "      \n",
       "      <progress value='23400' max='23400' style='width:300px; height:20px; vertical-align: middle;'></progress>\n",
       "      [23400/23400 2:04:41, Epoch 20/20]\n",
       "    </div>\n",
       "    <table border=\"1\" class=\"dataframe\">\n",
       "  <thead>\n",
       " <tr style=\"text-align: left;\">\n",
       "      <th>Step</th>\n",
       "      <th>Training Loss</th>\n",
       "    </tr>\n",
       "  </thead>\n",
       "  <tbody>\n",
       "    <tr>\n",
       "      <td>500</td>\n",
       "      <td>0.676600</td>\n",
       "    </tr>\n",
       "    <tr>\n",
       "      <td>1000</td>\n",
       "      <td>0.319000</td>\n",
       "    </tr>\n",
       "    <tr>\n",
       "      <td>1500</td>\n",
       "      <td>0.288500</td>\n",
       "    </tr>\n",
       "    <tr>\n",
       "      <td>2000</td>\n",
       "      <td>0.284400</td>\n",
       "    </tr>\n",
       "    <tr>\n",
       "      <td>2500</td>\n",
       "      <td>0.280100</td>\n",
       "    </tr>\n",
       "    <tr>\n",
       "      <td>3000</td>\n",
       "      <td>0.264300</td>\n",
       "    </tr>\n",
       "    <tr>\n",
       "      <td>3500</td>\n",
       "      <td>0.264400</td>\n",
       "    </tr>\n",
       "    <tr>\n",
       "      <td>4000</td>\n",
       "      <td>0.258400</td>\n",
       "    </tr>\n",
       "    <tr>\n",
       "      <td>4500</td>\n",
       "      <td>0.253900</td>\n",
       "    </tr>\n",
       "    <tr>\n",
       "      <td>5000</td>\n",
       "      <td>0.248200</td>\n",
       "    </tr>\n",
       "    <tr>\n",
       "      <td>5500</td>\n",
       "      <td>0.248600</td>\n",
       "    </tr>\n",
       "    <tr>\n",
       "      <td>6000</td>\n",
       "      <td>0.237000</td>\n",
       "    </tr>\n",
       "    <tr>\n",
       "      <td>6500</td>\n",
       "      <td>0.240300</td>\n",
       "    </tr>\n",
       "    <tr>\n",
       "      <td>7000</td>\n",
       "      <td>0.238100</td>\n",
       "    </tr>\n",
       "    <tr>\n",
       "      <td>7500</td>\n",
       "      <td>0.233000</td>\n",
       "    </tr>\n",
       "    <tr>\n",
       "      <td>8000</td>\n",
       "      <td>0.232500</td>\n",
       "    </tr>\n",
       "    <tr>\n",
       "      <td>8500</td>\n",
       "      <td>0.236100</td>\n",
       "    </tr>\n",
       "    <tr>\n",
       "      <td>9000</td>\n",
       "      <td>0.223200</td>\n",
       "    </tr>\n",
       "    <tr>\n",
       "      <td>9500</td>\n",
       "      <td>0.228300</td>\n",
       "    </tr>\n",
       "    <tr>\n",
       "      <td>10000</td>\n",
       "      <td>0.227000</td>\n",
       "    </tr>\n",
       "    <tr>\n",
       "      <td>10500</td>\n",
       "      <td>0.221800</td>\n",
       "    </tr>\n",
       "    <tr>\n",
       "      <td>11000</td>\n",
       "      <td>0.220600</td>\n",
       "    </tr>\n",
       "    <tr>\n",
       "      <td>11500</td>\n",
       "      <td>0.219900</td>\n",
       "    </tr>\n",
       "    <tr>\n",
       "      <td>12000</td>\n",
       "      <td>0.219800</td>\n",
       "    </tr>\n",
       "    <tr>\n",
       "      <td>12500</td>\n",
       "      <td>0.217900</td>\n",
       "    </tr>\n",
       "    <tr>\n",
       "      <td>13000</td>\n",
       "      <td>0.218400</td>\n",
       "    </tr>\n",
       "    <tr>\n",
       "      <td>13500</td>\n",
       "      <td>0.217400</td>\n",
       "    </tr>\n",
       "    <tr>\n",
       "      <td>14000</td>\n",
       "      <td>0.212500</td>\n",
       "    </tr>\n",
       "    <tr>\n",
       "      <td>14500</td>\n",
       "      <td>0.214200</td>\n",
       "    </tr>\n",
       "    <tr>\n",
       "      <td>15000</td>\n",
       "      <td>0.215600</td>\n",
       "    </tr>\n",
       "    <tr>\n",
       "      <td>15500</td>\n",
       "      <td>0.208400</td>\n",
       "    </tr>\n",
       "    <tr>\n",
       "      <td>16000</td>\n",
       "      <td>0.215700</td>\n",
       "    </tr>\n",
       "    <tr>\n",
       "      <td>16500</td>\n",
       "      <td>0.212500</td>\n",
       "    </tr>\n",
       "    <tr>\n",
       "      <td>17000</td>\n",
       "      <td>0.211600</td>\n",
       "    </tr>\n",
       "    <tr>\n",
       "      <td>17500</td>\n",
       "      <td>0.207100</td>\n",
       "    </tr>\n",
       "    <tr>\n",
       "      <td>18000</td>\n",
       "      <td>0.209500</td>\n",
       "    </tr>\n",
       "    <tr>\n",
       "      <td>18500</td>\n",
       "      <td>0.207100</td>\n",
       "    </tr>\n",
       "    <tr>\n",
       "      <td>19000</td>\n",
       "      <td>0.211300</td>\n",
       "    </tr>\n",
       "    <tr>\n",
       "      <td>19500</td>\n",
       "      <td>0.207100</td>\n",
       "    </tr>\n",
       "    <tr>\n",
       "      <td>20000</td>\n",
       "      <td>0.203300</td>\n",
       "    </tr>\n",
       "    <tr>\n",
       "      <td>20500</td>\n",
       "      <td>0.209300</td>\n",
       "    </tr>\n",
       "    <tr>\n",
       "      <td>21000</td>\n",
       "      <td>0.204300</td>\n",
       "    </tr>\n",
       "    <tr>\n",
       "      <td>21500</td>\n",
       "      <td>0.208600</td>\n",
       "    </tr>\n",
       "    <tr>\n",
       "      <td>22000</td>\n",
       "      <td>0.206200</td>\n",
       "    </tr>\n",
       "    <tr>\n",
       "      <td>22500</td>\n",
       "      <td>0.203200</td>\n",
       "    </tr>\n",
       "    <tr>\n",
       "      <td>23000</td>\n",
       "      <td>0.210600</td>\n",
       "    </tr>\n",
       "  </tbody>\n",
       "</table><p>"
      ],
      "text/plain": [
       "<IPython.core.display.HTML object>"
      ]
     },
     "metadata": {},
     "output_type": "display_data"
    },
    {
     "data": {
      "text/plain": [
       "TrainOutput(global_step=23400, training_loss=0.2383839380639231, metrics={'train_runtime': 7482.5427, 'train_samples_per_second': 25.01, 'train_steps_per_second': 3.127, 'total_flos': 1.266393236373504e+16, 'train_loss': 0.2383839380639231, 'epoch': 20.0})"
      ]
     },
     "execution_count": 33,
     "metadata": {},
     "output_type": "execute_result"
    }
   ],
   "source": [
    "trainer = Trainer(\n",
    "    model=model,\n",
    "    args=training_args,\n",
    "    train_dataset=tokenized_dataset,\n",
    ")\n",
    "trainer.train()"
   ]
  },
  {
   "cell_type": "code",
   "execution_count": 34,
   "metadata": {},
   "outputs": [
    {
     "data": {
      "text/plain": [
       "('./t5_finetuned\\\\tokenizer_config.json',\n",
       " './t5_finetuned\\\\special_tokens_map.json',\n",
       " './t5_finetuned\\\\spiece.model',\n",
       " './t5_finetuned\\\\added_tokens.json')"
      ]
     },
     "execution_count": 34,
     "metadata": {},
     "output_type": "execute_result"
    }
   ],
   "source": [
    "model.save_pretrained(\"./t5_finetuned\")\n",
    "tokenizer.save_pretrained(\"./t5_finetuned\")"
   ]
  },
  {
   "cell_type": "code",
   "execution_count": null,
   "metadata": {},
   "outputs": [],
   "source": [
    "def generate_answer(query):\n",
    "    inputs = tokenizer(f\"question: {query}\", return_tensors=\"pt\", max_length=256, truncation=True)\n",
    "    output = model.generate(**inputs)\n",
    "    return tokenizer.decode(output[0], skip_special_tokens=True)\n",
    "\n",
    "def generate_answer_para(query):\n",
    "    inputs = tokenizer(f\"question: {query}\", return_tensors=\"pt\", max_length=1024, truncation=True)\n",
    "    output = model.generate(**inputs)\n",
    "    return tokenizer.decode(output[0], skip_special_tokens=True)\n",
    "\n",
    "def generate_answer_large(query):\n",
    "    inputs = tokenizer(f\"question: {query}\", return_tensors=\"pt\", max_length=2048, truncation=True)\n",
    "    output = model.generate(**inputs)\n",
    "    return tokenizer.decode(output[0], skip_special_tokens=True)\n"
   ]
  },
  {
   "cell_type": "code",
   "execution_count": null,
   "metadata": {},
   "outputs": [
    {
     "name": "stdout",
     "output_type": "stream",
     "text": [
      "Sri Mata Amritanandamayi Devi, affectionately known as AMMA, is the founder and Chancellor of the university.\n"
     ]
    }
   ],
   "source": [
    "query1 = \"Who is the founder and Chancellor of Amrita Vishwa Vidyapeetham?\"\n",
    "print(generate_answer(query1))"
   ]
  },
  {
   "cell_type": "code",
   "execution_count": null,
   "metadata": {},
   "outputs": [
    {
     "name": "stdout",
     "output_type": "stream",
     "text": [
      "The university has multiple campuses, including Amritapuri, Amaravati, Bengaluru, Chennai, Coimbatore, Kochi, Mysuru, and Faridabad.\n"
     ]
    }
   ],
   "source": [
    "query2 = \"How many campuses does Amrita Vishwa Vidyapeetham have, and can you list them?\"\n",
    "print(generate_answer(query2))"
   ]
  },
  {
   "cell_type": "code",
   "execution_count": null,
   "metadata": {},
   "outputs": [
    {
     "name": "stdout",
     "output_type": "stream",
     "text": [
      "The campus spans over 80 acres of land\n"
     ]
    }
   ],
   "source": [
    "query3 = \"What is the size of the Amritapuri campus at Amrita Vishwa Vidyapeetham?\"\n",
    "print(generate_answer(query3))"
   ]
  },
  {
   "cell_type": "code",
   "execution_count": null,
   "metadata": {},
   "outputs": [
    {
     "name": "stdout",
     "output_type": "stream",
     "text": [
      "Rs. 45,900\n"
     ]
    }
   ],
   "source": [
    "query4 = \"What is the tuition fee per semester for the B.B.A. (Business Analytics) program for the academic year 2025-26?\"\n",
    "print(generate_answer(query4))"
   ]
  },
  {
   "cell_type": "code",
   "execution_count": null,
   "metadata": {},
   "outputs": [
    {
     "name": "stdout",
     "output_type": "stream",
     "text": [
      "Amrita University has received the topmost 'A++' Grade.\n"
     ]
    }
   ],
   "source": [
    "query5 = \"What is the NAAC accreditation grade for Amrita Vishwa Vidyapeetham?\"\n",
    "print(generate_answer(query5))"
   ]
  },
  {
   "cell_type": "code",
   "execution_count": null,
   "metadata": {},
   "outputs": [
    {
     "name": "stdout",
     "output_type": "stream",
     "text": [
      "Amrita Vishwa Vidyapeetham's inclusion in the Times Higher Education Impact Rankings marks a significant achievement, reaffirming the university’s dedication to academic excellence and societal impact. As the only Indian university in the World’s Top 100, Amrita's recognition reflects its strong performance in research, teaching, and community engagement. The rankings, which evaluate institutions based on their contributions to real-world challenges, highlight Amrita’s efforts in producing high-quality research that benefits society, industries, and the environment.\n",
      "Securing the 81st position globally in the 2024 rankings, Amrita has maintained its status as India’s top-ranked university for three consecutive years. This recognition underscores the institution’s commitment to delivering exceptional education through expert faculty and an engaging learning environment. Additionally, Amrita’s strong collaborations with industry and government enhance its research capabilities, providing students with valuable hands-on experience and skills that prepare them for successful careers.\n",
      "\n"
     ]
    }
   ],
   "source": [
    "query1 = \"Describe the significance of Amrita's inclusion in the Times Higher Education Impact Rankings.\"\n",
    "print(generate_answer_para(query1))"
   ]
  },
  {
   "cell_type": "code",
   "execution_count": null,
   "metadata": {},
   "outputs": [
    {
     "name": "stdout",
     "output_type": "stream",
     "text": [
      "ĀCĀRA is a research center dedicated to advancing Ayurveda by integrating traditional wisdom with modern scientific methodologies. Through innovative research, the center aims to validate and enhance Ayurvedic practices, contributing to global healthcare solutions. By bridging ancient knowledge with contemporary science, ĀCĀRA strives to develop evidence-based Ayurvedic therapies.\n",
      "Located at the Amritapuri campus, the Amrita Centre for Advanced Research in Ayurveda (ACARA) is led by Dr. P. Ram Manohar. Its multidisciplinary team, including Ayurvedic practitioners, biologists, chemists, and pharmacologists, collaborates to explore the pharmacological properties of Ayurvedic herbs and formulations. Their research focuses on identifying active compounds and understanding their mechanisms, which can contribute to the development of new drugs and therapeutic approaches.\n"
     ]
    }
   ],
   "source": [
    "query2 = \"Explain the role and objectives of the Amrita Center for Advanced Research in Ayurveda (ACARA).\"\n",
    "print(generate_answer_para(query2))"
   ]
  },
  {
   "cell_type": "code",
   "execution_count": null,
   "metadata": {},
   "outputs": [
    {
     "name": "stdout",
     "output_type": "stream",
     "text": [
      "Amrita Vishwa Vidyapeetham, a leading educational institution, is dedicated to advancing knowledge and fostering innovation across diverse research domains. Key areas of focus include artificial intelligence and machine learning, where researchers develop intelligent systems to enhance industries and improve lives. The institution also prioritizes cybersecurity, working to safeguard digital systems and protect sensitive data. In healthcare, researchers strive to improve patient care and develop advanced medical technologies. Additionally, Amrita is committed to sustainable technologies, energy, and environmental studies, addressing global challenges like climate change and resource conservation. Through these research efforts, the institution aims to drive technological advancements and contribute to societal progress.\n"
     ]
    }
   ],
   "source": [
    "query3 = \"What are the main research areas of Amrita Vishwa Vidyapeetham?\"\n",
    "print(generate_answer_para(query3))"
   ]
  },
  {
   "cell_type": "code",
   "execution_count": null,
   "metadata": {},
   "outputs": [
    {
     "name": "stdout",
     "output_type": "stream",
     "text": [
      "Amrita Vishwa Vidyapeetham actively supports rural development and women's empowerment through education, skill training, healthcare, and advocacy. Over 6,000 individuals have been trained through its empowerment programs, and more than 60 workshops have been conducted in schools to promote education in underserved areas. Through initiatives like AmritaCREATE, the university develops educational technologies to bridge learning gaps in rural communities. Vocational training equips women with skills for sustainable livelihoods, fostering financial independence. Additionally, health camps and awareness programs ensure access to essential healthcare services. Through research and advocacy, the institution advances gender equality and social justice, encouraging policies that support women's rights. By integrating education, skills, healthcare, and advocacy, Amrita Vishwa Vidyapeetham empowers women and strengthens rural communities, driving sustainable social progress.\n"
     ]
    }
   ],
   "source": [
    "query4 = \"How does Amrita Vishwa Vidyapeetham support rural development and women empowerment initiatives?\"\n",
    "print(generate_answer_para(query4))"
   ]
  },
  {
   "cell_type": "code",
   "execution_count": null,
   "metadata": {},
   "outputs": [
    {
     "name": "stdout",
     "output_type": "stream",
     "text": [
      "The Kochi campus is equipped with state-of-the-art facilities to foster a dynamic educational and research environment. The Kochi campus of Amrita Vishwa Vidyapeetham is home to the renowned Amrita Institute of Medical Sciences, a premier multispecialty hospital. It offers diverse academic programs across Medicine, Dentistry, Nursing, Pharmacy, Allied Health Sciences, Nano Sciences, Arts, Humanities & Commerce, Physical Sciences, Computing, and Business. Recognized academic schools include the School of Arts, Humanities & Commerce, School of Physical Sciences, and School of Computing. The campus features modern amenities such as laboratories, smart classrooms, a well-stocked library, a large auditorium, conference rooms, and seminar halls, alongside a traditional Banyan tree that enhances the learning environment. Student support includes a counselling cell, a complaints cell, women's welfare initiatives, medical services, secure hostels, and transport facilities. With organic farming, extensive literary resources, sports facilities, and essential services like banking and reprographics, the campus fosters holistic growth.\n"
     ]
    }
   ],
   "source": [
    "query5 = \"Outline the facilities and resources provided at the Kochi campus for education and research\"\n",
    "print(generate_answer_para(query5))"
   ]
  },
  {
   "cell_type": "code",
   "execution_count": null,
   "metadata": {},
   "outputs": [
    {
     "name": "stdout",
     "output_type": "stream",
     "text": [
      "Amrita University’s research-driven education equips students with the skills needed to tackle global challenges. By integrating research into the curriculum, students stay updated on the latest developments, fostering innovation and critical thinking. A key example is the Amrita Center for Sustainable Development, which focuses on renewable energy, waste management, and sustainable agriculture. Students contribute to projects like a solar-powered water purification system for rural India, addressing clean water access and demonstrating the potential of renewable energy solutions.\n",
      "The Ph.D. in Nanomedicine, Molecular Medicine, and Renewable Energy Related Areas is offered by the Center for Nanosciences at Amrita Vishwa Vidyapeetham, Kochi. The program focuses on advanced research in the areas of nanomedicine, molecular medicine, and renewable energy technologies, combining interdisciplinary approaches to address global challenges in health, medicine, and energy sustainability. The school undertakes over 150 research projects focused on fostering intercultural understanding and addressing global challenges. Kochi campus is an perfect example for Amrita helping students for global challenges.\n",
      "Amrita promotes global awareness by encouraging international research collaborations and exchange programs. For instance, students from the Amrita School of Management collaborate on projects studying cultural impacts on business practices, enhancing their understanding of global issues. In conclusion, Amrita University’s research-driven approach prepares students to innovate, collaborate, and solve complex global problems. Through its focus on sustainable development, interdisciplinary research, and global collaborations, Amrita ensures that its graduates are equipped to make a positive impact on the world.\n"
     ]
    }
   ],
   "source": [
    "query1 = \"Analyse how Amrita's emphasis on research-driven education helps students prepare for global challenges, citing examples from any specific campus.\"\n",
    "print(generate_answer_large(query1))"
   ]
  },
  {
   "cell_type": "code",
   "execution_count": null,
   "metadata": {},
   "outputs": [
    {
     "name": "stdout",
     "output_type": "stream",
     "text": [
      "The one-year residency program in hospital settings is a crucial component of Pharm. D. education, preparing students for leadership roles in clinical pharmacy. It offers a comprehensive understanding of the healthcare system, patient care, and medication management. During the residency, students encounter a wide range of clinical scenarios that help them develop essential skills in critical thinking, problem-solving, and decision-making. They also learn to collaborate with healthcare professionals, fostering teamwork and improving patient outcomes.\n",
      "The residency provides exposure to the complexities of medication management, helping students navigate the healthcare system and develop strategies to improve medication adherence. This knowledge is vital for pharmacists in leadership roles, enabling them to advocate for patients and optimize medication therapy in collaboration with other professionals. Additionally, the program enhances communication and interpersonal skills, teaching students to effectively interact with patients, families, and healthcare teams. These skills are essential for building trust and advocating for patients in leadership roles.\n",
      "Real-world examples demonstrate how the residency prepares students for leadership in clinical pharmacy. Graduates can develop medication therapy management programs, lead quality improvement projects, and advocate for patients and the profession. In summary, the residency equips Pharm. D. students with the skills, experience, and knowledge necessary to assume leadership roles, improve patient outcomes, and positively impact the healthcare system.\n"
     ]
    }
   ],
   "source": [
    "query2 = \"Pharm. D. students undergo a one-year residency in hospital settings. How does this component equip them for leadership roles in clinical pharmacy?\"\n",
    "print(generate_answer_large(query2))"
   ]
  },
  {
   "cell_type": "code",
   "execution_count": null,
   "metadata": {},
   "outputs": [
    {
     "name": "stdout",
     "output_type": "stream",
     "text": [
      "For a student skilled in Python, Java, and data analysis, Amrita Vishwa Vidyapeetham offers a variety of advanced programs that align with their skills and interests. The university’s Master of Science programs in Data Science, Artificial Intelligence, Computer Vision, Bioinformatics, and Cybersecurity provide in-depth knowledge and practical experience in cutting-edge technologies. These programs cover critical areas such as machine learning, deep learning, natural language processing, image processing, genomics, and cryptography. Additionally, students are exposed to real-world case studies and hands-on projects, enabling them to gain practical insights and problem-solving skills that are highly valued in the industry.\n",
      "The focus on interdisciplinary learning at Amrita enhances students’ abilities to tackle complex challenges across various domains. Programs like Data Science and AI incorporate big data analytics and statistical techniques, while Computer Vision and Bioinformatics delve into specialized topics like image analysis and biological data processing. The Cybersecurity program, on the other hand, prepares students to protect systems and networks from emerging threats. Moreover, these programs emphasize collaboration, equipping students with the leadership and teamwork skills necessary to excel in fast-paced, global environments. By providing a combination of theoretical knowledge and practical application, Amrita ensures that students are well-prepared for careers in fields that are shaping the future of technology and innovation.\n"
     ]
    }
   ],
   "source": [
    "query3 = \"If a student skilled in Python, Java, and data analysis is looking to specialize, which programs at Amrita Vishwa Vidyapeetham would you recommend, and why?\"\n",
    "print(generate_answer_large(query3))"
   ]
  },
  {
   "cell_type": "code",
   "execution_count": null,
   "metadata": {},
   "outputs": [
    {
     "name": "stdout",
     "output_type": "stream",
     "text": [
      "Amrita Vishwa Vidyapeetham offers extensive academic and research support for students passionate about renewable energy and sustainable solutions. The university's dedicated research centers, such as the Centre for Energy Research and the Centre for Sustainable Development, provide students with the opportunity to engage in cutting-edge research and collaborate with industry partners, government agencies, and other academic institutions. These centers foster innovation in renewable energy technologies, addressing real-world challenges and promoting sustainable development. Additionally, the university's advanced laboratories and simulation tools enable students to conduct experiments and develop prototypes, providing essential resources like solar simulators and wind tunnels for hands-on research.\n",
      "The university also encourages interdisciplinary collaboration, allowing students from various disciplines like engineering, science, and business to work together to develop comprehensive solutions for sustainability. This approach broadens students' perspectives on the social, economic, and environmental aspects of renewable energy. Moreover, funding opportunities such as research grants, scholarships, and fellowships help support students in their research endeavours. External collaborations with industries and governmental organizations offer students practical experience and networking opportunities, further enhancing their readiness for impactful careers in the renewable energy sector.\n"
     ]
    }
   ],
   "source": [
    "query4 = \"If a student is passionate about renewable energy and sustainable solutions, how could Amrita Vishwa Vidyapeetham’s academic and research initiatives support their ambitions?\"\n",
    "print(generate_answer_large(query4))"
   ]
  },
  {
   "cell_type": "code",
   "execution_count": null,
   "metadata": {},
   "outputs": [
    {
     "name": "stdout",
     "output_type": "stream",
     "text": [
      "Amrita, as an organizer of international conferences, faces logistical, cultural, and technological challenges in ensuring successful events. Logistical issues include venue selection, accommodation, travel arrangements, and scheduling. Coordinating these aspects for participants from various countries and time zones can be complex. To address these challenges, Amrita can collaborate with local event organizers and tourism boards to identify suitable venues, negotiate group discounts, and streamline the accommodation process. Additionally, partnering with travel agencies and providing a comprehensive travel guide can help manage travel logistics. Scheduling can be optimized using project management tools to create a detailed conference program that accommodates speakers' availability and attendees' preferences.\n",
      "Cultural challenges also play a significant role in organizing international conferences. Language barriers and cultural differences can hinder effective communication and create an inclusive environment. Amrita can resolve these issues by hiring professional translators and interpreters for real-time services and offering multilingual conference materials. To ensure cultural sensitivity, Amrita can research attendees' cultural backgrounds and consult experts, while providing cultural sensitivity training for staff to foster a welcoming atmosphere for all participants.\n",
      "Technological challenges such as connectivity, internet access, and technical issues can disrupt the smooth functioning of conferences. To ensure reliable Wi-Fi and high-speed internet, Amrita can collaborate with local service providers and offer portable Wi-Fi devices to attendees. Investing in high-quality audio-visual equipment and providing backup systems will minimize technical glitches. Additionally, offering a comprehensive technical guide and providing technical support can help ensure a seamless conference experience for all. By proactively addressing these challenges, Amrita can create a successful and inclusive international conference environment.\n"
     ]
    }
   ],
   "source": [
    "query5 = \"Analyse the challenges Amrita may face in organizing international conferences and propose solutions to mitigate them.\"\n",
    "print(generate_answer_large(query5))"
   ]
  }
 ],
 "metadata": {
  "kernelspec": {
   "display_name": ".venv",
   "language": "python",
   "name": "python3"
  },
  "language_info": {
   "codemirror_mode": {
    "name": "ipython",
    "version": 3
   },
   "file_extension": ".py",
   "mimetype": "text/x-python",
   "name": "python",
   "nbconvert_exporter": "python",
   "pygments_lexer": "ipython3",
   "version": "3.12.8"
  }
 },
 "nbformat": 4,
 "nbformat_minor": 2
}
